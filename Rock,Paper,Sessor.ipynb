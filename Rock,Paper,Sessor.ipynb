{
  "nbformat": 4,
  "nbformat_minor": 0,
  "metadata": {
    "colab": {
      "provenance": [],
      "authorship_tag": "ABX9TyPxRIMRYmlaagqELDZwvhz+",
      "include_colab_link": true
    },
    "kernelspec": {
      "name": "python3",
      "display_name": "Python 3"
    },
    "language_info": {
      "name": "python"
    }
  },
  "cells": [
    {
      "cell_type": "markdown",
      "metadata": {
        "id": "view-in-github",
        "colab_type": "text"
      },
      "source": [
        "<a href=\"https://colab.research.google.com/github/hasanahmad676/Python-Projects/blob/main/Rock%2CPaper%2CSessor.ipynb\" target=\"_parent\"><img src=\"https://colab.research.google.com/assets/colab-badge.svg\" alt=\"Open In Colab\"/></a>"
      ]
    },
    {
      "cell_type": "code",
      "execution_count": 13,
      "metadata": {
        "colab": {
          "base_uri": "https://localhost:8080/"
        },
        "id": "2ZaoqZ9vtfov",
        "outputId": "1ff3146d-7eb8-4a04-dcec-805db910c3d8"
      },
      "outputs": [
        {
          "output_type": "stream",
          "name": "stdout",
          "text": [
            "Let's play Rock-Paper-Scissors!\n",
            "enter rock,paper or sessor: rock\n",
            "You chose: rock\n",
            "Computer chose: paper\n",
            "computer won\n",
            "None\n"
          ]
        }
      ],
      "source": [
        "\"\"\"\n",
        "  Here i will amke a rock,paper ans sessor game where user will play with computer\n",
        "\n",
        "\n",
        "\"\"\"\n",
        "\n",
        "import random\n",
        "\n",
        "def user_input():\n",
        "  user=input(\"enter rock,paper or sessor: \")\n",
        "  if user in ['rock', 'paper', 'scissors']:\n",
        "    return user\n",
        "\n",
        "def computer_input():\n",
        "  computer= random.choice([\"rock\",\"paper\",\"sessor\"])\n",
        "  return computer\n",
        "\n",
        "\n",
        "def decision(user,computer):\n",
        "  if user == computer:\n",
        "    print(\"game is tie\")\n",
        "  elif (user =='rock' and computer == 'sessor') or \\\n",
        "       (user =='paper' and computer == 'rock') or \\\n",
        "       (user =='sessor' and computer == 'paper'):\n",
        "           print(\"you win\")\n",
        "  else:\n",
        "       print(\"computer won\")\n",
        "\n",
        "\n",
        "def play():\n",
        "  print(\"Let's play Rock-Paper-Scissors!\")\n",
        "  user_choice = user_input()\n",
        "  computer_choice = computer_input()\n",
        "  print(\"You chose:\", user_choice)\n",
        "  print(\"Computer chose:\", computer_choice)\n",
        "  print(decision(user_choice, computer_choice))\n",
        "\n",
        "\n",
        "play()\n"
      ]
    },
    {
      "cell_type": "code",
      "source": [],
      "metadata": {
        "id": "c96ElRQ6tmeL"
      },
      "execution_count": null,
      "outputs": []
    },
    {
      "cell_type": "code",
      "source": [],
      "metadata": {
        "id": "9ZN7kZmFtmgz"
      },
      "execution_count": null,
      "outputs": []
    },
    {
      "cell_type": "code",
      "source": [],
      "metadata": {
        "id": "9eYLFCkotmjt"
      },
      "execution_count": null,
      "outputs": []
    },
    {
      "cell_type": "code",
      "source": [],
      "metadata": {
        "id": "8P49fwsftmmR"
      },
      "execution_count": null,
      "outputs": []
    },
    {
      "cell_type": "code",
      "source": [],
      "metadata": {
        "id": "iEUrtTfGtmot"
      },
      "execution_count": null,
      "outputs": []
    },
    {
      "cell_type": "code",
      "source": [],
      "metadata": {
        "id": "PTc8Zi6RtmsR"
      },
      "execution_count": null,
      "outputs": []
    }
  ]
}